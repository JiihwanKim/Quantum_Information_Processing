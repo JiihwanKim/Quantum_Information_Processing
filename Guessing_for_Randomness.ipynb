{
  "nbformat": 4,
  "nbformat_minor": 0,
  "metadata": {
    "colab": {
      "name": "Guessing_for_Randomness.ipynb",
      "version": "0.3.2",
      "provenance": [],
      "collapsed_sections": [],
      "include_colab_link": true
    },
    "kernelspec": {
      "name": "python3",
      "display_name": "Python 3"
    }
  },
  "cells": [
    {
      "cell_type": "markdown",
      "metadata": {
        "id": "view-in-github",
        "colab_type": "text"
      },
      "source": [
        "<a href=\"https://colab.research.google.com/github/JiihwanKim/Quantum_Information_Processing/blob/master/Guessing_for_Randomness.ipynb\" target=\"_parent\"><img src=\"https://colab.research.google.com/assets/colab-badge.svg\" alt=\"Open In Colab\"/></a>"
      ]
    },
    {
      "cell_type": "markdown",
      "metadata": {
        "id": "8m6FuJmcryTJ",
        "colab_type": "text"
      },
      "source": [
        "# Randomness in Measurement Device Independent QRNG\n",
        "\n",
        " Randomness in Measurement Device Independent QRNG\n",
        " \n",
        " This function has four required arguments:\n",
        " \n",
        "    p: prior probability list (1xN)\n",
        "    \n",
        "    RHO: density operators(dxd array) list (1xN)\n",
        "    \n",
        "    Pobs: probability distribution list to be observed (NxO)\n",
        "    \n",
        "    η: detection accuracy (1x1)\n",
        "    \n",
        "    where N is the number of states and O is the number of outcomes.\n",
        "    \n",
        " Pg,M = Guessing_for_Randomness(p,RHO,Pobs,η): calculates guessing\n",
        " \n",
        " probability(Pg), optimal measurement(M).\n",
        " \n",
        " Requires: cvxpy, numpy\n",
        " \n",
        " Author: Jihwan Kim (mailto://mslab.k@gmail.com )\n",
        " \n",
        " Affiliation: Mathematical Science Lab, Applied Physics, Hanyang University, South Korea\n",
        " \n",
        " Reference:  https://arxiv.org/abs/1703.03330v1\n",
        " \n",
        " Last updated: Jun. 21, 2019"
      ]
    },
    {
      "cell_type": "markdown",
      "metadata": {
        "id": "sc9yHQILuWQd",
        "colab_type": "text"
      },
      "source": [
        "## Preparation"
      ]
    },
    {
      "cell_type": "code",
      "metadata": {
        "id": "XYgmGyrfCZZv",
        "colab_type": "code",
        "colab": {}
      },
      "source": [
        "# Package Settings\n",
        "import cvxpy as cp\n",
        "import numpy as np\n",
        "\n",
        "# Definition of Function\n",
        "def Guessing_for_Randomness(p,RHO,Pobs,η):\n",
        "  def Correct_Probability(p,RHO,M):\n",
        "    return cp.sum([cp.trace(p[a]*RHO[a]*cp.sum([M[a][x][x] for x in range(num_of_outcomes)])) for a in range(num_of_states)])\n",
        "  num_of_states = len(RHO)\n",
        "  num_of_outcomes = len(Pobs[0])\n",
        "  # Construction of the problem.\n",
        "  M = [[[cp.Variable((len(RHO[0]),len(RHO[0])),symmetric=True) for x in range(num_of_outcomes)] for x in range(num_of_outcomes)] for x in range(num_of_states)];\n",
        "  objective = cp.Maximize(Correct_Probability(p,RHO,M));\n",
        "  constraints = [M[a][x][e]>>0 for x in range(num_of_outcomes) for e in range(num_of_outcomes) for a in range(num_of_states)];\n",
        "  constraints += [cp.sum([M[a][x][e] for x in range(num_of_outcomes) for e in range(num_of_outcomes)])==np.eye(len(RHO[1])) for a in range(num_of_states)]\n",
        "  constraints += [cp.sum([M[a][x][e] for x in range(num_of_outcomes)])==cp.sum([M[a][x][e] for x in range(num_of_outcomes)])[0][0]*np.eye(len(RHO[1])) for e in range(num_of_outcomes) for a in range(num_of_states)]\n",
        "  constraints += [cp.sum([M[a][x][e] for e in range(num_of_outcomes)])==cp.sum([M[1][x][e] for e in range(num_of_outcomes)]) for x in range(num_of_outcomes) for a in range(num_of_states)]\n",
        "  constraints += [cp.sum( [p[a]*cp.trace(M[a][x][e]*RHO[a]) for e in range(num_of_outcomes)] ) == Pobs[a][x] for x in range(num_of_outcomes) for a in range(len(Pobs))]\n",
        "  prob = cp.Problem(objective, constraints);\n",
        "  prob.solve()\n",
        "\n",
        "  # Return the optimals.\n",
        "  Pg = objective.value\n",
        "  M = [[[np.around(M[a][x][e].value) for e in range(num_of_outcomes)] for x in range(num_of_outcomes)] for a in range(num_of_states)]\n",
        "  return Pg,M"
      ],
      "execution_count": 0,
      "outputs": []
    },
    {
      "cell_type": "markdown",
      "metadata": {
        "id": "UQXUrT55zDfT",
        "colab_type": "text"
      },
      "source": [
        "## Example"
      ]
    },
    {
      "cell_type": "code",
      "metadata": {
        "id": "BvhIhidGrpkK",
        "colab_type": "code",
        "outputId": "5c4f69ce-0ea7-4fcc-f344-3e4efde729d1",
        "colab": {
          "base_uri": "https://localhost:8080/",
          "height": 34
        }
      },
      "source": [
        "\n",
        "# Prior Probability of Quantum States\n",
        "p = [0.99, 0.01] \n",
        "\n",
        "# Quantum states\n",
        "RHO = [np.array([[.5,.5],[.5,.5]])]\n",
        "RHO.append(np.array([[1,0],[0,0]]))\n",
        "\n",
        "# Detection Quality\n",
        "η= 0.9999999\n",
        "\n",
        "# Probability Distribution for Users\n",
        "Pobs = [[(η*.5+(1-η)/2)*p[0],(η*.5+(1-η)/2)*p[0]],[(η*1+(1-η)/2)*p[1],(η*0+(1-η)/2)*p[1]]]\n",
        "\n",
        "\n",
        "Pg,M = Guessing_for_Randomness(p,RHO,Pobs,η)\n",
        "print(Pg)"
      ],
      "execution_count": 2,
      "outputs": [
        {
          "output_type": "stream",
          "text": [
            "0.5054426343251976\n"
          ],
          "name": "stdout"
        }
      ]
    }
  ]
}