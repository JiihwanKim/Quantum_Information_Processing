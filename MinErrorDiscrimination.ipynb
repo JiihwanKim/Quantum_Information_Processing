{
  "nbformat": 4,
  "nbformat_minor": 0,
  "metadata": {
    "colab": {
      "name": "MinErrorDiscrimination.ipynb",
      "provenance": [],
      "collapsed_sections": [
        "r3ZfEP15hsk8",
        "LetvqIk17lBf",
        "y2bevQJWQ0di"
      ],
      "include_colab_link": true
    },
    "kernelspec": {
      "display_name": "Python 3",
      "language": "python",
      "name": "python3"
    },
    "language_info": {
      "codemirror_mode": {
        "name": "ipython",
        "version": 3
      },
      "file_extension": ".py",
      "mimetype": "text/x-python",
      "name": "python",
      "nbconvert_exporter": "python",
      "pygments_lexer": "ipython3",
      "version": "3.7.4"
    }
  },
  "cells": [
    {
      "cell_type": "markdown",
      "metadata": {
        "id": "view-in-github",
        "colab_type": "text"
      },
      "source": [
        "<a href=\"https://colab.research.google.com/github/JiihwanKim/Quantum_Information_Processing/blob/master/MinErrorDiscrimination.ipynb\" target=\"_parent\"><img src=\"https://colab.research.google.com/assets/colab-badge.svg\" alt=\"Open In Colab\"/></a>"
      ]
    },
    {
      "cell_type": "markdown",
      "metadata": {
        "id": "r3ZfEP15hsk8"
      },
      "source": [
        "# Minimum Error Discrimination\n",
        " MinErrorDiscrimination Calculates guessing probability and optimals\n",
        " \n",
        " This function has three required arguments:\n",
        " \n",
        "    q: prior probability list (1xN)\n",
        "    \n",
        "    RHO: density operators(dxd array)'s list (1xN)\n",
        "    \n",
        "    precision: number (1x1)\n",
        "    \n",
        " Pg,M,K = MinErrorDiscrimination(q,RHO,precision) calculates guessing\n",
        " \n",
        " probability(Pg), optimal measurement(M) and symmetry operator(K).\n",
        " \n",
        " Requires: cvxpy, numpy\n",
        " \n",
        " Author: Jihwan Kim (mslab.k@gmail.com )\n",
        " \n",
        " Affiliation: Mathematical Science Lab, Applied Physics, Hanyang University, South Korea\n",
        " \n",
        " Last updated: Dec. 9, 2020"
      ]
    },
    {
      "cell_type": "markdown",
      "metadata": {
        "id": "-yQYZ0h9rKd0"
      },
      "source": [
        "## (code) SDP optimization for MD"
      ]
    },
    {
      "cell_type": "markdown",
      "metadata": {
        "id": "oBlDvYDaqM5q"
      },
      "source": [
        "**Start from the dual**"
      ]
    },
    {
      "cell_type": "code",
      "metadata": {
        "id": "kU7kv9UNbhYS"
      },
      "source": [
        "%reset -f\n",
        "# Minimum Error Discrimination from Dual Problem\n",
        "\n",
        "def MinErrorDiscriminationDual(q,RHO,precision):\n",
        "  if isinstance(q,list) and isinstance(RHO,list) and len(q)==len(RHO):\n",
        "    import cvxpy as cp\n",
        "    num_of_states = len(RHO)\n",
        "    \n",
        "    # Construction of the problem.\n",
        "    K = cp.Variable((len(RHO[1]),len(RHO[1])),hermitian=True);\n",
        "    objective = cp.Minimize(cp.real(cp.trace(K)));\n",
        "    constraints = [K-q[x]*RHO[x]>>0 for x in range(num_of_states)];\n",
        "    prob = cp.Problem(objective, constraints);\n",
        "    prob.solve(solver=cp.SCS)\n",
        "    \n",
        "    # Return the optimals.\n",
        "    Pg = objective.value\n",
        "    K = np.around(K.value,precision)\n",
        "\n",
        "    return  Pg, K\n",
        "  \n",
        "  else: raise ValueError(\"Unknown format\")"
      ],
      "execution_count": null,
      "outputs": []
    },
    {
      "cell_type": "markdown",
      "metadata": {
        "id": "5KWHmlFvquqx"
      },
      "source": [
        "**Start from the primal**"
      ]
    },
    {
      "cell_type": "code",
      "metadata": {
        "id": "j4zcduyDhFvt"
      },
      "source": [
        "# Minimum Error Discrimination from Primal Problem\n",
        "\n",
        "def MinErrorDiscrimination(q,RHO,precision):\n",
        "  if isinstance(q,list) and isinstance(RHO,list) and len(q)==len(RHO):\n",
        "    def Correct_Probability(q,RHO,M):\n",
        "      return cp.sum([cp.real(cp.trace(q[x]*RHO[x]*M[x])) for x in range(num_of_states)])\n",
        "    import cvxpy as cp\n",
        "    num_of_states = len(RHO)\n",
        "    # Construction of the problem.\n",
        "    M = [cp.Variable((len(RHO[0]),len(RHO[0])),hermitian=True) for x in range(num_of_states)];\n",
        "    objective = cp.Maximize(Correct_Probability(q,RHO,M));\n",
        "    constraints = [M[x]>>0 for x in range(num_of_states)]+[cp.sum(M)==np.eye(len(RHO[0]))];\n",
        "    prob = cp.Problem(objective, constraints);\n",
        "    prob.solve(solver=cp.SCS)\n",
        "    \n",
        "#   Return the optimals.\n",
        "    K = np.around(constraints[-1].dual_value,precision)\n",
        "    K = constraints[-1].dual_value\n",
        "    Pg = objective.value\n",
        "    M = [np.around(M[x].value,precision) for x in range(len(M))]\n",
        "    return Pg,M,K\n",
        "  \n",
        "  else: raise ValueError(\"Unknown format\")\n"
      ],
      "execution_count": null,
      "outputs": []
    },
    {
      "cell_type": "markdown",
      "metadata": {
        "id": "LetvqIk17lBf"
      },
      "source": [
        "## Example\n"
      ]
    },
    {
      "cell_type": "markdown",
      "metadata": {
        "id": "heDJYmBZt3SZ"
      },
      "source": [
        "### Simple example\n",
        "Suppose that the given states are prepared in a system with equiprobably.\n",
        "<p align=\"center\">\n",
        "$\\rho_0 = \\pmatrix{1&0\\\\ 0&0}$,&nbsp;&nbsp;&nbsp;  $\\rho_1 = \\frac{1}{2}\\pmatrix{1&1\\\\ 1&1}$,&nbsp;&nbsp;&nbsp; $\\rho_2 = \\frac{1}{2}\\pmatrix{1&0\\\\ 0&1}$\n",
        "</p>\n",
        "Find a optimal measurement providing guessing probability."
      ]
    },
    {
      "cell_type": "code",
      "metadata": {
        "id": "w4O9f31AbBKt"
      },
      "source": [
        "import numpy as np\n",
        "q = [1/3,1/3,1/3];\n",
        "RHO = [np.array([[1, 0],[0, 0]])]\n",
        "RHO.append(np.array([[1, 1],[1, 1]])*0.5)\n",
        "RHO.append(np.array([[1, 0],[0, 1]])*0.5)\n",
        "Pg,M,K = MinErrorDiscrimination(q,RHO,3)"
      ],
      "execution_count": null,
      "outputs": []
    },
    {
      "cell_type": "markdown",
      "metadata": {
        "id": "i0BJuazi2-DD"
      },
      "source": [
        "### Minimizing the number to be discriminated"
      ]
    },
    {
      "cell_type": "code",
      "metadata": {
        "id": "gvEaRjmd28Uc"
      },
      "source": [
        "w = 0.5\n",
        "N = 10\n",
        "f = [1,2,3,4,5]\n",
        "RHO = np.matrix([[w/2+(1-w)/3,w/2,0],[w/2,w/2+(1-w)/3,0],[0,0,(1-w)/3]])\n",
        "U = np.matrix([[np.exp(2*np.pi*1j*f[0]/N),0,0],[0,np.exp(2*np.pi*1j*f[1]/N),0],[0,0,np.exp(2*np.pi*1j*f[2]/N)]])\n",
        "DensityOperators = [U**k*RHO*U.H**k for k in range(N)]"
      ],
      "execution_count": null,
      "outputs": []
    },
    {
      "cell_type": "code",
      "metadata": {
        "id": "0rWFin1xT9gB"
      },
      "source": [
        "q = [1/N]*N\n",
        "Pg,M,K = MinErrorDiscrimination(q,DensityOperators,6)"
      ],
      "execution_count": null,
      "outputs": []
    },
    {
      "cell_type": "code",
      "metadata": {
        "id": "XBQ5ugtEmfdH"
      },
      "source": [
        "Z = [[1,2,2,2,2],\n",
        "     [1,2*np.cos(2*np.pi*(f[0]-f[1])*1/N),2*np.cos(2*np.pi*(f[0]-f[1])*2/N),2*np.cos(2*np.pi*(f[0]-f[1])*3/N),2*np.cos(2*np.pi*(f[0]-f[1])*4/N)],\n",
        "     [1,2*np.cos(2*np.pi*(f[0]-f[2])*1/N),2*np.cos(2*np.pi*(f[0]-f[2])*2/N),2*np.cos(2*np.pi*(f[0]-f[2])*3/N),2*np.cos(2*np.pi*(f[0]-f[2])*4/N)],\n",
        "     [1,2*np.cos(2*np.pi*(f[0]-f[3])*1/N),2*np.cos(2*np.pi*(f[0]-f[3])*2/N),2*np.cos(2*np.pi*(f[0]-f[3])*3/N),2*np.cos(2*np.pi*(f[0]-f[3])*4/N)],\n",
        "     [1,2*np.cos(2*np.pi*(f[0]-f[4])*1/N),2*np.cos(2*np.pi*(f[0]-f[4])*2/N),2*np.cos(2*np.pi*(f[0]-f[4])*3/N),2*np.cos(2*np.pi*(f[0]-f[4])*4/N)]]"
      ],
      "execution_count": null,
      "outputs": []
    },
    {
      "cell_type": "code",
      "metadata": {
        "id": "w9vbBcAgf3fb",
        "colab": {
          "base_uri": "https://localhost:8080/",
          "height": 35
        },
        "outputId": "f852b29a-45ad-49f6-f7c1-b149dfc86103"
      },
      "source": [
        "np.linalg.det(np.matrix(Z))"
      ],
      "execution_count": null,
      "outputs": [
        {
          "output_type": "execute_result",
          "data": {
            "text/plain": [
              "99.99999999999996"
            ]
          },
          "metadata": {
            "tags": []
          },
          "execution_count": 522
        }
      ]
    },
    {
      "cell_type": "code",
      "metadata": {
        "id": "opvvo9SfnNSx",
        "colab": {
          "base_uri": "https://localhost:8080/",
          "height": 234
        },
        "outputId": "658dfe55-deff-46f2-e447-4dabb675f90e"
      },
      "source": [
        "P = np.linalg.inv(Z)*np.matrix([[1],[0],[0],[0],[0]])\n",
        "P = np.append(np.array(P),0)\n",
        "d = len(RHO)\n",
        "L = [np.matrix(np.array(P)[min(k,10-k)]*d/np.trace(M[k])*M[k]) for k in range(10)]\n",
        "print(1/N*(DensityOperators[0]*L[0]+DensityOperators[2]*L[2]+DensityOperators[4]*L[4]+DensityOperators[6]*L[6]+DensityOperators[8]*L[8]))\n",
        "print(K)"
      ],
      "execution_count": null,
      "outputs": [
        {
          "output_type": "stream",
          "text": [
            "[[ 6.66666328e-02+1.56125113e-18j -8.11814524e-08+8.32667268e-18j\n",
            "   0.00000000e+00+0.00000000e+00j]\n",
            " [-8.11814524e-08+0.00000000e+00j  6.66666328e-02-1.73472348e-18j\n",
            "   0.00000000e+00+0.00000000e+00j]\n",
            " [ 0.00000000e+00+0.00000000e+00j  0.00000000e+00+0.00000000e+00j\n",
            "   1.66666445e-02+2.77544654e-19j]]\n",
            "[[ 6.66666316e-02+0.00000000e+00j -1.25192166e-12-3.14776214e-12j\n",
            "   2.32176824e-19-1.32339959e-18j]\n",
            " [-1.25192166e-12+3.14776214e-12j  6.66666316e-02+0.00000000e+00j\n",
            "   7.09307677e-19-7.54326824e-19j]\n",
            " [ 2.32176824e-19+1.32339959e-18j  7.09307677e-19+7.54326824e-19j\n",
            "   1.66666878e-02+0.00000000e+00j]]\n"
          ],
          "name": "stdout"
        }
      ]
    },
    {
      "cell_type": "code",
      "metadata": {
        "id": "54bRDZ035N2u"
      },
      "source": [
        "from itertools import permutations\n",
        "from collections import OrderedDict\n",
        "def den2vec(rho): \n",
        "  n = len(np.array(rho))\n",
        "  Standard_Basis = list(OrderedDict((x,None) for x in permutations([1]+[0]*(n-1))))\n",
        "  B = [np.array([Standard_Basis[x]]).T for x in range(n)]\n",
        "  E = [[np.dot(B[x],B[y].T) for y in range(n)] for x in range(n)]\n",
        "  S = [E[x][y]+E[y][x] for y in range(n) if y is not 0 for x in range(y) ]\n",
        "  A = [-1j*(E[x][y]-E[y][x]) for y in range(n) if y is not 0 for x in range(y) ]\n",
        "  D = [np.sqrt(2/((l+2)*(l+1)))*(np.sum([E[x][x] for x in range(l+1)],0)-(l+1)*E[l+1][l+1]) for l in range(n-1)]\n",
        "  Lambda = S+A+D # Genalized Gell-Mann Matrices, arXiv:1705.01523v3\n",
        "  return np.real([np.sqrt(n/(2*(n-1)))*np.trace(np.dot(rho,Lambda[x])) for x in range(n**2-1)])"
      ],
      "execution_count": null,
      "outputs": []
    },
    {
      "cell_type": "code",
      "metadata": {
        "id": "QIcAracB5muQ",
        "colab": {
          "base_uri": "https://localhost:8080/",
          "height": 269
        },
        "outputId": "bc58b4b5-cb41-4f43-8738-261db9e63486"
      },
      "source": [
        "x = [[den2vec(M[k]/np.trace(M[k])) for k in range(N)][l][0] for l in range(N)]\n",
        "y = [[den2vec(M[k]/np.trace(M[k])) for k in range(N)][l][3] for l in range(N)]\n",
        "from matplotlib import pyplot as plt\n",
        "plt.plot(x,y,'bo')\n",
        "plt.show()"
      ],
      "execution_count": null,
      "outputs": [
        {
          "output_type": "display_data",
          "data": {
            "image/png": "[encoded data removed]",
            "text/plain": [
              "<Figure size 432x288 with 1 Axes>"
            ]
          },
          "metadata": {
            "tags": [],
            "needs_background": "light"
          }
        }
      ]
    },
    {
      "cell_type": "code",
      "metadata": {
        "id": "QK9rQ5Uk7lDl",
        "colab": {
          "base_uri": "https://localhost:8080/",
          "height": 89
        },
        "outputId": "3a5bfbcf-78e9-4d6a-84ae-9970d266279d"
      },
      "source": [
        "!pip install qutip"
      ],
      "execution_count": null,
      "outputs": [
        {
          "output_type": "stream",
          "text": [
            "Requirement already satisfied: qutip in /usr/local/lib/python3.6/dist-packages (4.5.2)\n",
            "Requirement already satisfied: scipy>=1.0 in /usr/local/lib/python3.6/dist-packages (from qutip) (1.4.1)\n",
            "Requirement already satisfied: numpy>=1.12 in /usr/local/lib/python3.6/dist-packages (from qutip) (1.18.5)\n",
            "Requirement already satisfied: cython>=0.21 in /usr/local/lib/python3.6/dist-packages (from qutip) (0.29.21)\n"
          ],
          "name": "stdout"
        }
      ]
    },
    {
      "cell_type": "code",
      "metadata": {
        "id": "L4CDj1j18t-I",
        "colab": {
          "base_uri": "https://localhost:8080/",
          "height": 180
        },
        "outputId": "430c5593-781b-41fe-e970-7212dfd99af2"
      },
      "source": [
        "import numpy as np\n",
        "import qutip as qt\n",
        "q = [1/5,1/2,3/10];\n",
        "RHO = [np.array(qt.rand_ket(3).proj())]\n",
        "RHO.append(np.array(qt.rand_ket(3).proj()))\n",
        "RHO.append(np.array(qt.rand_ket(3).proj()))\n",
        "Pg,M,K = MinErrorDiscrimination(q,RHO,3)\n",
        "Pg\n",
        "M"
      ],
      "execution_count": null,
      "outputs": [
        {
          "output_type": "execute_result",
          "data": {
            "text/plain": [
              "[array([[ 0.551+0.j   , -0.22 +0.189j, -0.377-0.147j],\n",
              "        [-0.22 -0.189j,  0.152+0.j   ,  0.1  +0.187j],\n",
              "        [-0.377+0.147j,  0.1  -0.187j,  0.296+0.j   ]]),\n",
              " array([[ 0.05 +0.j   , -0.12 -0.113j,  0.032+0.138j],\n",
              "        [-0.12 +0.113j,  0.544+0.j   , -0.391-0.26j ],\n",
              "        [ 0.032-0.138j, -0.391+0.26j ,  0.406+0.j   ]]),\n",
              " array([[0.399+0.j   , 0.34 -0.076j, 0.344+0.009j],\n",
              "        [0.34 +0.076j, 0.304+0.j   , 0.292+0.073j],\n",
              "        [0.344-0.009j, 0.292-0.073j, 0.297+0.j   ]])]"
            ]
          },
          "metadata": {
            "tags": []
          },
          "execution_count": 527
        }
      ]
    }
  ]
}