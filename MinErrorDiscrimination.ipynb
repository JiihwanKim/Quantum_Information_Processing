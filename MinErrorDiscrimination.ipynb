{
  "nbformat": 4,
  "nbformat_minor": 0,
  "metadata": {
    "colab": {
      "name": "MinErrorDiscrimination.ipynb",
      "version": "0.3.2",
      "provenance": [],
      "collapsed_sections": [],
      "include_colab_link": true
    },
    "kernelspec": {
      "name": "python3",
      "display_name": "Python 3"
    }
  },
  "cells": [
    {
      "cell_type": "markdown",
      "metadata": {
        "id": "view-in-github",
        "colab_type": "text"
      },
      "source": [
        "<a href=\"https://colab.research.google.com/github/JiihwanKim/Quantum_Information_Processing/blob/master/MinErrorDiscrimination.ipynb\" target=\"_parent\"><img src=\"https://colab.research.google.com/assets/colab-badge.svg\" alt=\"Open In Colab\"/></a>"
      ]
    },
    {
      "cell_type": "markdown",
      "metadata": {
        "id": "r3ZfEP15hsk8",
        "colab_type": "text"
      },
      "source": [
        "# Minimum Error Discrimination\n"
      ]
    },
    {
      "cell_type": "code",
      "metadata": {
        "id": "sfs95RdSytEo",
        "colab_type": "code",
        "cellView": "code",
        "colab": {}
      },
      "source": [
        "%reset -f"
      ],
      "execution_count": 0,
      "outputs": []
    },
    {
      "cell_type": "markdown",
      "metadata": {
        "id": "Bry_hS44tPiX",
        "colab_type": "text"
      },
      "source": [
        " MinErrorDiscrimination Calculates guessing probability and optimals\n",
        " \n",
        " This function has three required arguments:\n",
        " \n",
        "    q: prior probability list (1xN)\n",
        "    \n",
        "    RHO: density operators(dxd array)'s list (1xN)\n",
        "    \n",
        "    precision: number (1x1)\n",
        "    \n",
        " Pg,M,K = MinErrorDiscrimination(q,RHO,precision) calculates guessing\n",
        " \n",
        " probability(Pg), optimal measurement(M) and symmetry operator(K).\n",
        " \n",
        " Requires: cvxpy, numpy\n",
        " \n",
        " Author: Jihwan Kim (mslab.k@gmail.com )\n",
        " \n",
        " Affiliation: Mathematical Science Lab, Applied Physics, Hanyang University, South Korea\n",
        " \n",
        " Last updated: Jun. 21, 2019"
      ]
    },
    {
      "cell_type": "code",
      "metadata": {
        "id": "kU7kv9UNbhYS",
        "colab_type": "code",
        "colab": {}
      },
      "source": [
        "# Minimum Error Discrimination from Dual Problem\n",
        "\n",
        "def MinErrorDiscriminationDual(q,RHO,precision):\n",
        "  if isinstance(q,list) and isinstance(RHO,list) and len(q)==len(RHO):\n",
        "    import cvxpy as cp\n",
        "    num_of_states = len(RHO)\n",
        "    \n",
        "    # Construction of the problem.\n",
        "    K = cp.Variable((len(RHO[1]),len(RHO[1])),symmetric=True);\n",
        "    objective = cp.Minimize(cp.trace(K));\n",
        "    constraints = [K>>q[x]*RHO[x] for x in range(num_of_states)];\n",
        "    prob = cp.Problem(objective, constraints);\n",
        "    prob.solve()\n",
        "    \n",
        "    # Return the optimals.\n",
        "    K = np.around(K.value,precision)\n",
        "    Pg = np.trace(K)\n",
        "    M = [np.around(constraints[x].dual_value,precision) \n",
        "         for x in range(num_of_states)];\n",
        "    return  Pg, M, K\n",
        "  \n",
        "  else: raise ValueError(\"Unknown format\")"
      ],
      "execution_count": 0,
      "outputs": []
    },
    {
      "cell_type": "code",
      "metadata": {
        "id": "j4zcduyDhFvt",
        "colab_type": "code",
        "colab": {}
      },
      "source": [
        "# Minimum Error Discrimination from Primal Problem\n",
        "\n",
        "def MinErrorDiscrimination(q,RHO,precision):\n",
        "  if isinstance(q,list) and isinstance(RHO,list) and len(q)==len(RHO):\n",
        "    def Correct_Probability(q,RHO,M):\n",
        "      return cp.trace(cp.sum([q[x]*RHO[x]*M[x] for x in range(num_of_states)]))\n",
        "    import cvxpy as cp\n",
        "    num_of_states = len(RHO)\n",
        "    # Construction of the problem.\n",
        "    M = [cp.Variable((len(RHO[0]),len(RHO[0])),symmetric=True) for x in range(num_of_states)];\n",
        "    objective = cp.Maximize(Correct_Probability(q,RHO,M));\n",
        "    constraints = [M[x]>>0 for x in range(num_of_states)]+[cp.sum(M)==np.eye(len(RHO[0]))];\n",
        "    prob = cp.Problem(objective, constraints);\n",
        "    prob.solve()\n",
        "    \n",
        "#   Return the optimals.\n",
        "    K = np.around(constraints[-1].dual_value,precision)\n",
        "    Pg = objective.value\n",
        "    M = [np.around(M[x].value,precision) for x in range(len(M))]\n",
        "    return Pg,M,K\n",
        "  \n",
        "  else: raise ValueError(\"Unknown format\")\n"
      ],
      "execution_count": 0,
      "outputs": []
    },
    {
      "cell_type": "markdown",
      "metadata": {
        "id": "LetvqIk17lBf",
        "colab_type": "text"
      },
      "source": [
        "# Example\n",
        "Suppose that the given states are prepared in a system with equiprobably.\n",
        "<p align=\"center\">\n",
        "$\\rho_0 = \\pmatrix{1&0\\\\ 0&0}$,&nbsp;&nbsp;&nbsp;  $\\rho_1 = \\frac{1}{2}\\pmatrix{1&1\\\\ 1&1}$,&nbsp;&nbsp;&nbsp; $\\rho_2 = \\frac{1}{2}\\pmatrix{1&0\\\\ 0&1}$\n",
        "</p>\n",
        "Find a optimal measurement providing guessing probability."
      ]
    },
    {
      "cell_type": "code",
      "metadata": {
        "id": "w4O9f31AbBKt",
        "colab_type": "code",
        "outputId": "beba7f27-75d9-413c-ebb6-c5d588cfe60f",
        "colab": {
          "base_uri": "https://localhost:8080/",
          "height": 87
        }
      },
      "source": [
        "import numpy as np\n",
        "q = [1/3,1/3,1/3];\n",
        "RHO = [np.array([[1, 0],[0, 0]])]\n",
        "RHO.append(np.array([[1, 1],[1, 1]])*0.5)\n",
        "RHO.append(np.array([[1, 0],[0, 1]])*0.5)\n",
        "Pg,M,K = MinErrorDiscrimination(q,RHO,3)\n",
        "print(M)"
      ],
      "execution_count": 4,
      "outputs": [
        {
          "output_type": "stream",
          "text": [
            "[array([[ 0.854, -0.354],\n",
            "       [-0.354,  0.146]]), array([[0.146, 0.354],\n",
            "       [0.354, 0.854]]), array([[-0.,  0.],\n",
            "       [ 0., -0.]])]\n"
          ],
          "name": "stdout"
        }
      ]
    },
    {
      "cell_type": "code",
      "metadata": {
        "id": "LIUQ7VM15XxP",
        "colab_type": "code",
        "outputId": "1ac7debd-265c-4357-c2b9-cc2c7ccc1f90",
        "colab": {
          "base_uri": "https://localhost:8080/",
          "height": 351
        }
      },
      "source": [
        "print('Guessing Probability: '+str(Pg)+'\\n')\n",
        "print('Optimal Measurement:\\n')\n",
        "print('\\n'.join(['M'+str(x)+'\\n='+str(M[x]) for x in range(len(RHO))]))\n",
        "print('\\nDual Optimal: '+'\\n')\n",
        "print('K\\n='+str(K))"
      ],
      "execution_count": 5,
      "outputs": [
        {
          "output_type": "stream",
          "text": [
            "Guessing Probability: 0.5690355936134054\n",
            "\n",
            "Optimal Measurement:\n",
            "\n",
            "M0\n",
            "=[[ 0.854 -0.354]\n",
            " [-0.354  0.146]]\n",
            "M1\n",
            "=[[0.146 0.354]\n",
            " [0.354 0.854]]\n",
            "M2\n",
            "=[[-0.  0.]\n",
            " [ 0. -0.]]\n",
            "\n",
            "Dual Optimal: \n",
            "\n",
            "K\n",
            "=[[0.368 0.083]\n",
            " [0.083 0.201]]\n"
          ],
          "name": "stdout"
        }
      ]
    }
  ]
}