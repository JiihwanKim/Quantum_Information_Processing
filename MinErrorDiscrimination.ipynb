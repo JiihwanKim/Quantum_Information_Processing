#  MinErrorDiscrimination Calculate guessing probability and optimals
#  This function has two required arguments:
#       q: prior probability list (1xN)
#       RHO: density operators(array) list (dxdxN)
#       precision: precision parameter (1x1)
#  Pg,M,K = MinErrorDiscrimination(q,RHO,precision) calculates guessing
#  probability(Pg), optimal measurement(M) and symmetry operator(K).
#  Requires: cvxpy, numpy
#  Author: Jihwan Kim (mailto://mslab.k@gmail.com )
#  Affiliation: Mathematical Science Lab, Applied Physics, Hanyang University, South Korea
#  Last updated: Jun. 21, 2019

def MinErrorDiscrimination(q,RHO,precision):
  if isinstance(q,list) and isinstance(RHO,list) and len(q)==len(RHO):
    def Correct_Probability(q,RHO,M):
      return cp.trace(cp.sum([q[x]*RHO[x]*M[x] for x in range(num_of_states)]))
    import cvxpy as cp
    num_of_states = len(RHO)
    
#   Construction of the problem.
    M = [cp.Variable((len(RHO[0]),len(RHO[0])),symmetric=True) for x in range(num_of_states)];
    objective = cp.Maximize(Correct_Probability(q,RHO,M));
    constraints = [M[x]>>0 for x in range(num_of_states)]+[cp.sum(M)==np.eye(len(RHO[0]))];
    prob = cp.Problem(objective, constraints);
    prob.solve()
    
#   Return the optimals.
    K = np.around(constraints[-1].dual_value,precision)
    Pg = objective.value
    M = [np.around(M[x].value,precision) for x in range(len(M))]
    return Pg,M,K
  
  else: raise ValueError("Unknown format")
